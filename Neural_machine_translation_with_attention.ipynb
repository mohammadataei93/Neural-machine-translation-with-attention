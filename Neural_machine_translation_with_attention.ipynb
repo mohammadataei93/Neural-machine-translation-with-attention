{
  "nbformat": 4,
  "nbformat_minor": 0,
  "metadata": {
    "colab": {
      "name": "Neural_machine_translation_with_attention_v4a.ipynb",
      "provenance": [],
      "collapsed_sections": []
    },
    "coursera": {
      "schema_names": [
        "DLSC5W3-1A"
      ]
    },
    "kernelspec": {
      "display_name": "Python 3",
      "language": "python",
      "name": "python3"
    },
    "language_info": {
      "codemirror_mode": {
        "name": "ipython",
        "version": 3
      },
      "file_extension": ".py",
      "mimetype": "text/x-python",
      "name": "python",
      "nbconvert_exporter": "python",
      "pygments_lexer": "ipython3",
      "version": "3.7.6"
    }
  },
  "cells": [
    {
      "cell_type": "code",
      "metadata": {
        "id": "LCBYwJTA_MgE"
      },
      "source": [
        "!git clone https://github.com/mohammadataei93/Neural-machine-translation-with-attention.git\n",
        "!pip install faker"
      ],
      "execution_count": null,
      "outputs": []
    },
    {
      "cell_type": "code",
      "metadata": {
        "id": "RcBRMzPiiMmp"
      },
      "source": [
        "from tensorflow.keras.layers import Bidirectional, Concatenate, Permute, Dot, Input, LSTM, Multiply\n",
        "from tensorflow.keras.layers import RepeatVector, Dense, Activation, Lambda\n",
        "from tensorflow.keras.optimizers import Adam\n",
        "from tensorflow.keras.utils import to_categorical\n",
        "from tensorflow.keras.models import load_model, Model\n",
        "import tensorflow.keras.backend as K\n",
        "import tensorflow as tf\n",
        "import numpy as np\n",
        "import os\n",
        "os.chdir('/content/Neural-machine-translation-with-attention')\n",
        "\n",
        "from faker import Faker\n",
        "import random\n",
        "from tqdm import tqdm\n",
        "from babel.dates import format_date\n",
        "from nmt_utils import *\n",
        "import matplotlib.pyplot as plt\n",
        "%matplotlib inline"
      ],
      "execution_count": 4,
      "outputs": []
    },
    {
      "cell_type": "markdown",
      "metadata": {
        "id": "8BhEaJvph3Mf"
      },
      "source": [
        "<a name='1-1'></a>\n",
        "Dataset"
      ]
    },
    {
      "cell_type": "code",
      "metadata": {
        "colab": {
          "base_uri": "https://localhost:8080/"
        },
        "id": "gwIf5l17h3Mg",
        "outputId": "35f55f1d-b53c-4885-f2e1-32781846551d"
      },
      "source": [
        "m = 10000\n",
        "dataset, human_vocab, machine_vocab, inv_machine_vocab = load_dataset(m)"
      ],
      "execution_count": 5,
      "outputs": [
        {
          "output_type": "stream",
          "name": "stderr",
          "text": [
            "100%|██████████| 10000/10000 [00:00<00:00, 18077.28it/s]\n"
          ]
        }
      ]
    },
    {
      "cell_type": "code",
      "metadata": {
        "colab": {
          "base_uri": "https://localhost:8080/"
        },
        "id": "zCTqMyPch3Mg",
        "outputId": "cbbf1748-e432-424d-c230-e81483fa8b5d"
      },
      "source": [
        "dataset[:10]"
      ],
      "execution_count": 6,
      "outputs": [
        {
          "output_type": "execute_result",
          "data": {
            "text/plain": [
              "[('9 may 1998', '1998-05-09'),\n",
              " ('10.11.19', '2019-11-10'),\n",
              " ('9/10/70', '1970-09-10'),\n",
              " ('saturday april 28 1990', '1990-04-28'),\n",
              " ('thursday january 26 1995', '1995-01-26'),\n",
              " ('monday march 7 1983', '1983-03-07'),\n",
              " ('sunday may 22 1988', '1988-05-22'),\n",
              " ('08 jul 2008', '2008-07-08'),\n",
              " ('8 sep 1999', '1999-09-08'),\n",
              " ('thursday january 1 1981', '1981-01-01')]"
            ]
          },
          "metadata": {},
          "execution_count": 6
        }
      ]
    },
    {
      "cell_type": "code",
      "metadata": {
        "colab": {
          "base_uri": "https://localhost:8080/"
        },
        "id": "Qdso90EBh3Mg",
        "outputId": "cc911b88-9358-4f8e-85c1-c2e618dd3e6c"
      },
      "source": [
        "Tx = 30\n",
        "Ty = 10\n",
        "X, Y, Xoh, Yoh = preprocess_data(dataset, human_vocab, machine_vocab, Tx, Ty)\n",
        "\n",
        "print(\"X.shape:\", X.shape)\n",
        "print(\"Y.shape:\", Y.shape)\n",
        "print(\"Xoh.shape:\", Xoh.shape)\n",
        "print(\"Yoh.shape:\", Yoh.shape)"
      ],
      "execution_count": 7,
      "outputs": [
        {
          "output_type": "stream",
          "name": "stdout",
          "text": [
            "X.shape: (10000, 30)\n",
            "Y.shape: (10000, 10)\n",
            "Xoh.shape: (10000, 30, 37)\n",
            "Yoh.shape: (10000, 10, 11)\n"
          ]
        }
      ]
    },
    {
      "cell_type": "code",
      "metadata": {
        "colab": {
          "base_uri": "https://localhost:8080/"
        },
        "id": "kUOayR4gh3Mh",
        "outputId": "de2f28b6-8249-433d-866c-18b1131551c3"
      },
      "source": [
        "index = 0\n",
        "print(\"Source date:\", dataset[index][0])\n",
        "print(\"Target date:\", dataset[index][1])\n",
        "print()\n",
        "print(\"Source after preprocessing (indices):\", X[index])\n",
        "print(\"Target after preprocessing (indices):\", Y[index])\n",
        "print()\n",
        "print(\"Source after preprocessing (one-hot):\", Xoh[index])\n",
        "print(\"Target after preprocessing (one-hot):\", Yoh[index])"
      ],
      "execution_count": 8,
      "outputs": [
        {
          "output_type": "stream",
          "name": "stdout",
          "text": [
            "Source date: 9 may 1998\n",
            "Target date: 1998-05-09\n",
            "\n",
            "Source after preprocessing (indices): [12  0 24 13 34  0  4 12 12 11 36 36 36 36 36 36 36 36 36 36 36 36 36 36\n",
            " 36 36 36 36 36 36]\n",
            "Target after preprocessing (indices): [ 2 10 10  9  0  1  6  0  1 10]\n",
            "\n",
            "Source after preprocessing (one-hot): [[0. 0. 0. ... 0. 0. 0.]\n",
            " [1. 0. 0. ... 0. 0. 0.]\n",
            " [0. 0. 0. ... 0. 0. 0.]\n",
            " ...\n",
            " [0. 0. 0. ... 0. 0. 1.]\n",
            " [0. 0. 0. ... 0. 0. 1.]\n",
            " [0. 0. 0. ... 0. 0. 1.]]\n",
            "Target after preprocessing (one-hot): [[0. 0. 1. 0. 0. 0. 0. 0. 0. 0. 0.]\n",
            " [0. 0. 0. 0. 0. 0. 0. 0. 0. 0. 1.]\n",
            " [0. 0. 0. 0. 0. 0. 0. 0. 0. 0. 1.]\n",
            " [0. 0. 0. 0. 0. 0. 0. 0. 0. 1. 0.]\n",
            " [1. 0. 0. 0. 0. 0. 0. 0. 0. 0. 0.]\n",
            " [0. 1. 0. 0. 0. 0. 0. 0. 0. 0. 0.]\n",
            " [0. 0. 0. 0. 0. 0. 1. 0. 0. 0. 0.]\n",
            " [1. 0. 0. 0. 0. 0. 0. 0. 0. 0. 0.]\n",
            " [0. 1. 0. 0. 0. 0. 0. 0. 0. 0. 0.]\n",
            " [0. 0. 0. 0. 0. 0. 0. 0. 0. 0. 1.]]\n"
          ]
        }
      ]
    },
    {
      "cell_type": "code",
      "metadata": {
        "id": "Cvop5Apyh3Mm"
      },
      "source": [
        "# Defined shared layers as global variables\n",
        "repeator = RepeatVector(Tx)\n",
        "concatenator = Concatenate(axis=-1)\n",
        "densor1 = Dense(10, activation = \"tanh\")\n",
        "densor2 = Dense(1, activation = \"relu\")\n",
        "activator = Activation(softmax, name='attention_weights') \n",
        "dotor = Dot(axes = 1)"
      ],
      "execution_count": 9,
      "outputs": []
    },
    {
      "cell_type": "code",
      "metadata": {
        "id": "mZuMOnTDh3Mn"
      },
      "source": [
        "def one_step_attention(a, s_prev):\n",
        "    s_prev = repeator(s_prev)\n",
        "    concat = concatenator([a,s_prev])\n",
        "    e = densor1(concat)\n",
        "    energies = densor2(e)\n",
        "    alphas = activator(energies)\n",
        "    context = dotor([alphas,a])\n",
        "    return context"
      ],
      "execution_count": 10,
      "outputs": []
    },
    {
      "cell_type": "code",
      "metadata": {
        "id": "5RHgmZrVh3Mo"
      },
      "source": [
        "n_a = 32 # number of units for the pre-attention, bi-directional LSTM's hidden state 'a'\n",
        "n_s = 64 # number of units for the post-attention LSTM's hidden state \"s\"\n",
        "\n",
        "# Please note, this is the post attention LSTM cell.  \n",
        "post_activation_LSTM_cell = LSTM(n_s, return_state = True) # Please do not modify this global variable.\n",
        "output_layer = Dense(len(machine_vocab), activation=softmax)"
      ],
      "execution_count": 11,
      "outputs": []
    },
    {
      "cell_type": "code",
      "metadata": {
        "id": "qeKbeDOvh3Mo"
      },
      "source": [
        "def modelf(Tx, Ty, n_a, n_s, human_vocab_size, machine_vocab_size):\n",
        "    X = Input(shape=(Tx, human_vocab_size))\n",
        "    s0 = Input(shape=(n_s,), name='s0')\n",
        "    c0 = Input(shape=(n_s,), name='c0')\n",
        "    s = s0\n",
        "    c = c0\n",
        "    outputs = []\n",
        "    a = Bidirectional(LSTM(units=n_a, return_sequences=True))(X)\n",
        "    for t in range(Ty):\n",
        "        context = one_step_attention(a, s)\n",
        "        s, _, c = post_activation_LSTM_cell(context, initial_state=[s, c])\n",
        "        out = output_layer(s)\n",
        "        outputs.append(out)\n",
        "    model = Model(inputs=[X, s0, c0], outputs=outputs)\n",
        "    return model"
      ],
      "execution_count": 12,
      "outputs": []
    },
    {
      "cell_type": "code",
      "metadata": {
        "id": "psdd-Ac6h3Mp"
      },
      "source": [
        "model = modelf(Tx, Ty, n_a, n_s, len(human_vocab), len(machine_vocab))"
      ],
      "execution_count": 13,
      "outputs": []
    },
    {
      "cell_type": "code",
      "metadata": {
        "colab": {
          "base_uri": "https://localhost:8080/"
        },
        "id": "tX0vaYmPh3Mq",
        "outputId": "3dcd2194-1c56-4d55-ef5b-42165c6b3eab"
      },
      "source": [
        "model.summary()"
      ],
      "execution_count": 14,
      "outputs": [
        {
          "output_type": "stream",
          "name": "stdout",
          "text": [
            "Model: \"model\"\n",
            "__________________________________________________________________________________________________\n",
            " Layer (type)                   Output Shape         Param #     Connected to                     \n",
            "==================================================================================================\n",
            " input_1 (InputLayer)           [(None, 30, 37)]     0           []                               \n",
            "                                                                                                  \n",
            " s0 (InputLayer)                [(None, 64)]         0           []                               \n",
            "                                                                                                  \n",
            " bidirectional (Bidirectional)  (None, 30, 64)       17920       ['input_1[0][0]']                \n",
            "                                                                                                  \n",
            " repeat_vector (RepeatVector)   (None, 30, 64)       0           ['s0[0][0]',                     \n",
            "                                                                  'lstm[0][0]',                   \n",
            "                                                                  'lstm[1][0]',                   \n",
            "                                                                  'lstm[2][0]',                   \n",
            "                                                                  'lstm[3][0]',                   \n",
            "                                                                  'lstm[4][0]',                   \n",
            "                                                                  'lstm[5][0]',                   \n",
            "                                                                  'lstm[6][0]',                   \n",
            "                                                                  'lstm[7][0]',                   \n",
            "                                                                  'lstm[8][0]']                   \n",
            "                                                                                                  \n",
            " concatenate (Concatenate)      (None, 30, 128)      0           ['bidirectional[0][0]',          \n",
            "                                                                  'repeat_vector[0][0]',          \n",
            "                                                                  'bidirectional[0][0]',          \n",
            "                                                                  'repeat_vector[1][0]',          \n",
            "                                                                  'bidirectional[0][0]',          \n",
            "                                                                  'repeat_vector[2][0]',          \n",
            "                                                                  'bidirectional[0][0]',          \n",
            "                                                                  'repeat_vector[3][0]',          \n",
            "                                                                  'bidirectional[0][0]',          \n",
            "                                                                  'repeat_vector[4][0]',          \n",
            "                                                                  'bidirectional[0][0]',          \n",
            "                                                                  'repeat_vector[5][0]',          \n",
            "                                                                  'bidirectional[0][0]',          \n",
            "                                                                  'repeat_vector[6][0]',          \n",
            "                                                                  'bidirectional[0][0]',          \n",
            "                                                                  'repeat_vector[7][0]',          \n",
            "                                                                  'bidirectional[0][0]',          \n",
            "                                                                  'repeat_vector[8][0]',          \n",
            "                                                                  'bidirectional[0][0]',          \n",
            "                                                                  'repeat_vector[9][0]']          \n",
            "                                                                                                  \n",
            " dense (Dense)                  (None, 30, 10)       1290        ['concatenate[0][0]',            \n",
            "                                                                  'concatenate[1][0]',            \n",
            "                                                                  'concatenate[2][0]',            \n",
            "                                                                  'concatenate[3][0]',            \n",
            "                                                                  'concatenate[4][0]',            \n",
            "                                                                  'concatenate[5][0]',            \n",
            "                                                                  'concatenate[6][0]',            \n",
            "                                                                  'concatenate[7][0]',            \n",
            "                                                                  'concatenate[8][0]',            \n",
            "                                                                  'concatenate[9][0]']            \n",
            "                                                                                                  \n",
            " dense_1 (Dense)                (None, 30, 1)        11          ['dense[0][0]',                  \n",
            "                                                                  'dense[1][0]',                  \n",
            "                                                                  'dense[2][0]',                  \n",
            "                                                                  'dense[3][0]',                  \n",
            "                                                                  'dense[4][0]',                  \n",
            "                                                                  'dense[5][0]',                  \n",
            "                                                                  'dense[6][0]',                  \n",
            "                                                                  'dense[7][0]',                  \n",
            "                                                                  'dense[8][0]',                  \n",
            "                                                                  'dense[9][0]']                  \n",
            "                                                                                                  \n",
            " attention_weights (Activation)  (None, 30, 1)       0           ['dense_1[0][0]',                \n",
            "                                                                  'dense_1[1][0]',                \n",
            "                                                                  'dense_1[2][0]',                \n",
            "                                                                  'dense_1[3][0]',                \n",
            "                                                                  'dense_1[4][0]',                \n",
            "                                                                  'dense_1[5][0]',                \n",
            "                                                                  'dense_1[6][0]',                \n",
            "                                                                  'dense_1[7][0]',                \n",
            "                                                                  'dense_1[8][0]',                \n",
            "                                                                  'dense_1[9][0]']                \n",
            "                                                                                                  \n",
            " dot (Dot)                      (None, 1, 64)        0           ['attention_weights[0][0]',      \n",
            "                                                                  'bidirectional[0][0]',          \n",
            "                                                                  'attention_weights[1][0]',      \n",
            "                                                                  'bidirectional[0][0]',          \n",
            "                                                                  'attention_weights[2][0]',      \n",
            "                                                                  'bidirectional[0][0]',          \n",
            "                                                                  'attention_weights[3][0]',      \n",
            "                                                                  'bidirectional[0][0]',          \n",
            "                                                                  'attention_weights[4][0]',      \n",
            "                                                                  'bidirectional[0][0]',          \n",
            "                                                                  'attention_weights[5][0]',      \n",
            "                                                                  'bidirectional[0][0]',          \n",
            "                                                                  'attention_weights[6][0]',      \n",
            "                                                                  'bidirectional[0][0]',          \n",
            "                                                                  'attention_weights[7][0]',      \n",
            "                                                                  'bidirectional[0][0]',          \n",
            "                                                                  'attention_weights[8][0]',      \n",
            "                                                                  'bidirectional[0][0]',          \n",
            "                                                                  'attention_weights[9][0]',      \n",
            "                                                                  'bidirectional[0][0]']          \n",
            "                                                                                                  \n",
            " c0 (InputLayer)                [(None, 64)]         0           []                               \n",
            "                                                                                                  \n",
            " lstm (LSTM)                    [(None, 64),         33024       ['dot[0][0]',                    \n",
            "                                 (None, 64),                      's0[0][0]',                     \n",
            "                                 (None, 64)]                      'c0[0][0]',                     \n",
            "                                                                  'dot[1][0]',                    \n",
            "                                                                  'lstm[0][0]',                   \n",
            "                                                                  'lstm[0][2]',                   \n",
            "                                                                  'dot[2][0]',                    \n",
            "                                                                  'lstm[1][0]',                   \n",
            "                                                                  'lstm[1][2]',                   \n",
            "                                                                  'dot[3][0]',                    \n",
            "                                                                  'lstm[2][0]',                   \n",
            "                                                                  'lstm[2][2]',                   \n",
            "                                                                  'dot[4][0]',                    \n",
            "                                                                  'lstm[3][0]',                   \n",
            "                                                                  'lstm[3][2]',                   \n",
            "                                                                  'dot[5][0]',                    \n",
            "                                                                  'lstm[4][0]',                   \n",
            "                                                                  'lstm[4][2]',                   \n",
            "                                                                  'dot[6][0]',                    \n",
            "                                                                  'lstm[5][0]',                   \n",
            "                                                                  'lstm[5][2]',                   \n",
            "                                                                  'dot[7][0]',                    \n",
            "                                                                  'lstm[6][0]',                   \n",
            "                                                                  'lstm[6][2]',                   \n",
            "                                                                  'dot[8][0]',                    \n",
            "                                                                  'lstm[7][0]',                   \n",
            "                                                                  'lstm[7][2]',                   \n",
            "                                                                  'dot[9][0]',                    \n",
            "                                                                  'lstm[8][0]',                   \n",
            "                                                                  'lstm[8][2]']                   \n",
            "                                                                                                  \n",
            " dense_2 (Dense)                (None, 11)           715         ['lstm[0][0]',                   \n",
            "                                                                  'lstm[1][0]',                   \n",
            "                                                                  'lstm[2][0]',                   \n",
            "                                                                  'lstm[3][0]',                   \n",
            "                                                                  'lstm[4][0]',                   \n",
            "                                                                  'lstm[5][0]',                   \n",
            "                                                                  'lstm[6][0]',                   \n",
            "                                                                  'lstm[7][0]',                   \n",
            "                                                                  'lstm[8][0]',                   \n",
            "                                                                  'lstm[9][0]']                   \n",
            "                                                                                                  \n",
            "==================================================================================================\n",
            "Total params: 52,960\n",
            "Trainable params: 52,960\n",
            "Non-trainable params: 0\n",
            "__________________________________________________________________________________________________\n"
          ]
        }
      ]
    },
    {
      "cell_type": "markdown",
      "metadata": {
        "id": "uiqCePt5h3Mr"
      },
      "source": [
        "**Expected Output**:\n",
        "\n",
        "Here is the summary you should see\n",
        "<table>\n",
        "    <tr>\n",
        "        <td>\n",
        "            **Total params:**\n",
        "        </td>\n",
        "        <td>\n",
        "         52,960\n",
        "        </td>\n",
        "    </tr>\n",
        "        <tr>\n",
        "        <td>\n",
        "            **Trainable params:**\n",
        "        </td>\n",
        "        <td>\n",
        "         52,960\n",
        "        </td>\n",
        "    </tr>\n",
        "            <tr>\n",
        "        <td>\n",
        "            **Non-trainable params:**\n",
        "        </td>\n",
        "        <td>\n",
        "         0\n",
        "        </td>\n",
        "    </tr>\n",
        "                    <tr>\n",
        "        <td>\n",
        "            **bidirectional_1's output shape **\n",
        "        </td>\n",
        "        <td>\n",
        "         (None, 30, 64)  \n",
        "        </td>\n",
        "    </tr>\n",
        "    <tr>\n",
        "        <td>\n",
        "            **repeat_vector_1's output shape **\n",
        "        </td>\n",
        "        <td>\n",
        "         (None, 30, 64) \n",
        "        </td>\n",
        "    </tr>\n",
        "                <tr>\n",
        "        <td>\n",
        "            **concatenate_1's output shape **\n",
        "        </td>\n",
        "        <td>\n",
        "         (None, 30, 128) \n",
        "        </td>\n",
        "    </tr>\n",
        "            <tr>\n",
        "        <td>\n",
        "            **attention_weights's output shape **\n",
        "        </td>\n",
        "        <td>\n",
        "         (None, 30, 1)  \n",
        "        </td>\n",
        "    </tr>\n",
        "        <tr>\n",
        "        <td>\n",
        "            **dot_1's output shape **\n",
        "        </td>\n",
        "        <td>\n",
        "         (None, 1, 64)\n",
        "        </td>\n",
        "    </tr>\n",
        "           <tr>\n",
        "        <td>\n",
        "            **dense_3's output shape **\n",
        "        </td>\n",
        "        <td>\n",
        "         (None, 11) \n",
        "        </td>\n",
        "    </tr>\n",
        "</table>\n"
      ]
    },
    {
      "cell_type": "code",
      "metadata": {
        "id": "sBFRJ49rh3Ms"
      },
      "source": [
        "opt = Adam(lr=0.005, beta_1=0.9, beta_2=0.999, decay=0.01) # Adam(...) \n",
        "model.compile(loss = 'categorical_crossentropy', optimizer = opt, metrics = ['accuracy'])"
      ],
      "execution_count": null,
      "outputs": []
    },
    {
      "cell_type": "code",
      "metadata": {
        "id": "USFiNKYhh3Mt"
      },
      "source": [
        "s0 = np.zeros((m, n_s))\n",
        "c0 = np.zeros((m, n_s))\n",
        "outputs = list(Yoh.swapaxes(0,1))"
      ],
      "execution_count": 16,
      "outputs": []
    },
    {
      "cell_type": "code",
      "metadata": {
        "id": "tPuwY45bh3Mt"
      },
      "source": [
        "model.fit([Xoh, s0, c0], outputs, epochs=1, batch_size=100)"
      ],
      "execution_count": null,
      "outputs": []
    },
    {
      "cell_type": "code",
      "metadata": {
        "id": "ooiZCOx0h3Mu"
      },
      "source": [
        "model.load_weights('models/model.h5')"
      ],
      "execution_count": 19,
      "outputs": []
    },
    {
      "cell_type": "markdown",
      "metadata": {
        "id": "yUUD9yXxh3Mu"
      },
      "source": [
        "results on new examples."
      ]
    },
    {
      "cell_type": "code",
      "metadata": {
        "colab": {
          "base_uri": "https://localhost:8080/"
        },
        "id": "rQ8sd_cuh3Mv",
        "outputId": "5f2d1234-f3cc-4269-a1cc-bdc9814af0ad"
      },
      "source": [
        "EXAMPLES = ['3 May 1979', '5 April 09', '21th of August 2016', 'Tue 10 Jul 2007', 'Saturday May 9 2018', 'March 3 2001', 'March 3rd 2001', '1 March 2001']\n",
        "s00 = np.zeros((1, n_s))\n",
        "c00 = np.zeros((1, n_s))\n",
        "for example in EXAMPLES:\n",
        "    source = string_to_int(example, Tx, human_vocab)\n",
        "    #print(source)\n",
        "    source = np.array(list(map(lambda x: to_categorical(x, num_classes=len(human_vocab)), source))).swapaxes(0,1)\n",
        "    source = np.swapaxes(source, 0, 1)\n",
        "    source = np.expand_dims(source, axis=0)\n",
        "    prediction = model.predict([source, s00, c00])\n",
        "    prediction = np.argmax(prediction, axis = -1)\n",
        "    output = [inv_machine_vocab[int(i)] for i in prediction]\n",
        "    print(\"source:\", example)\n",
        "    print(\"output:\", ''.join(output),\"\\n\")"
      ],
      "execution_count": 20,
      "outputs": [
        {
          "output_type": "stream",
          "name": "stdout",
          "text": [
            "source: 3 May 1979\n",
            "output: 1979-05-33 \n",
            "\n",
            "source: 5 April 09\n",
            "output: 2009-04-05 \n",
            "\n",
            "source: 21th of August 2016\n",
            "output: 2016-08-20 \n",
            "\n",
            "source: Tue 10 Jul 2007\n",
            "output: 2007-07-10 \n",
            "\n",
            "source: Saturday May 9 2018\n",
            "output: 2018-05-09 \n",
            "\n",
            "source: March 3 2001\n",
            "output: 2001-03-03 \n",
            "\n",
            "source: March 3rd 2001\n",
            "output: 2001-03-03 \n",
            "\n",
            "source: 1 March 2001\n",
            "output: 2001-03-01 \n",
            "\n"
          ]
        }
      ]
    },
    {
      "cell_type": "markdown",
      "metadata": {
        "id": "1XIxtN4xh3Mv"
      },
      "source": [
        "<a name='3'></a>\n",
        "Visualizing Attention"
      ]
    },
    {
      "cell_type": "code",
      "metadata": {
        "colab": {
          "base_uri": "https://localhost:8080/",
          "height": 459
        },
        "id": "4Kkr74ZZ-VLz",
        "outputId": "bc3f6bd3-8da2-44c1-f8c1-a610019e09d4"
      },
      "source": [
        "attention_map = plot_attention_map(model, human_vocab, inv_machine_vocab, \"Tuesday 09 Oct 1993\", num = 7, n_s = 64);"
      ],
      "execution_count": 21,
      "outputs": [
        {
          "output_type": "display_data",
          "data": {
            "text/plain": [
              "<Figure size 432x288 with 0 Axes>"
            ]
          },
          "metadata": {}
        },
        {
          "output_type": "display_data",
          "data": {
            "image/png": "[encoded data removed]",
            "text/plain": [
              "<Figure size 576x612 with 2 Axes>"
            ]
          },
          "metadata": {
            "needs_background": "light"
          }
        }
      ]
    }
  ]
}